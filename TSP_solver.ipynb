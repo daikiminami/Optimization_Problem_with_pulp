{
  "cells": [
    {
      "cell_type": "code",
      "execution_count": null,
      "metadata": {
        "colab": {
          "base_uri": "https://localhost:8080/",
          "height": 363
        },
        "id": "m_3XExIa48Kj",
        "outputId": "22481e3a-f0be-4e56-a38f-3196d714e4e5"
      },
      "outputs": [
        {
          "output_type": "execute_result",
          "data": {
            "text/html": [
              "<div>\n",
              "<style scoped>\n",
              "    .dataframe tbody tr th:only-of-type {\n",
              "        vertical-align: middle;\n",
              "    }\n",
              "\n",
              "    .dataframe tbody tr th {\n",
              "        vertical-align: top;\n",
              "    }\n",
              "\n",
              "    .dataframe thead th {\n",
              "        text-align: right;\n",
              "    }\n",
              "</style>\n",
              "<table border=\"1\" class=\"dataframe\">\n",
              "  <thead>\n",
              "    <tr style=\"text-align: right;\">\n",
              "      <th></th>\n",
              "      <th>x</th>\n",
              "      <th>y</th>\n",
              "    </tr>\n",
              "  </thead>\n",
              "  <tbody>\n",
              "    <tr>\n",
              "      <th>0</th>\n",
              "      <td>0</td>\n",
              "      <td>0</td>\n",
              "    </tr>\n",
              "    <tr>\n",
              "      <th>1</th>\n",
              "      <td>9</td>\n",
              "      <td>21</td>\n",
              "    </tr>\n",
              "    <tr>\n",
              "      <th>2</th>\n",
              "      <td>66</td>\n",
              "      <td>53</td>\n",
              "    </tr>\n",
              "    <tr>\n",
              "      <th>3</th>\n",
              "      <td>93</td>\n",
              "      <td>53</td>\n",
              "    </tr>\n",
              "    <tr>\n",
              "      <th>4</th>\n",
              "      <td>24</td>\n",
              "      <td>13</td>\n",
              "    </tr>\n",
              "    <tr>\n",
              "      <th>5</th>\n",
              "      <td>4</td>\n",
              "      <td>22</td>\n",
              "    </tr>\n",
              "    <tr>\n",
              "      <th>6</th>\n",
              "      <td>81</td>\n",
              "      <td>0</td>\n",
              "    </tr>\n",
              "    <tr>\n",
              "      <th>7</th>\n",
              "      <td>99</td>\n",
              "      <td>70</td>\n",
              "    </tr>\n",
              "    <tr>\n",
              "      <th>8</th>\n",
              "      <td>78</td>\n",
              "      <td>18</td>\n",
              "    </tr>\n",
              "    <tr>\n",
              "      <th>9</th>\n",
              "      <td>65</td>\n",
              "      <td>28</td>\n",
              "    </tr>\n",
              "  </tbody>\n",
              "</table>\n",
              "</div>"
            ],
            "text/plain": [
              "    x   y\n",
              "0   0   0\n",
              "1   9  21\n",
              "2  66  53\n",
              "3  93  53\n",
              "4  24  13\n",
              "5   4  22\n",
              "6  81   0\n",
              "7  99  70\n",
              "8  78  18\n",
              "9  65  28"
            ]
          },
          "metadata": {},
          "execution_count": 33
        }
      ],
      "source": [
        "# define TSP\n",
        "import pandas as pd\n",
        "import numpy as np\n",
        "\n",
        "n_customer = 9\n",
        "n_point = n_customer + 1\n",
        "df = pd.DataFrame({\n",
        "    \"x\": np.random.randint(0, 100, n_point),\n",
        "    \"y\": np.random.randint(0, 100, n_point)\n",
        "})\n",
        "\n",
        "df.iloc[0][\"x\"] = 0\n",
        "df.iloc[0][\"y\"] = 0\n",
        "df"
      ]
    },
    {
      "cell_type": "code",
      "source": [
        "n_point"
      ],
      "metadata": {
        "colab": {
          "base_uri": "https://localhost:8080/"
        },
        "id": "AuA_Y11G6N_K",
        "outputId": "56e72a8d-baa3-410a-b963-917db53a482e"
      },
      "execution_count": null,
      "outputs": [
        {
          "output_type": "execute_result",
          "data": {
            "text/plain": [
              "10"
            ]
          },
          "metadata": {},
          "execution_count": 34
        }
      ]
    },
    {
      "cell_type": "code",
      "execution_count": null,
      "metadata": {
        "colab": {
          "base_uri": "https://localhost:8080/",
          "height": 335
        },
        "id": "gBYWt6k948Ko",
        "outputId": "4748388f-00db-4a8a-8cf1-d76778aa2d93"
      },
      "outputs": [
        {
          "output_type": "display_data",
          "data": {
            "image/png": "[encoded data removed]",
            "text/plain": [
              "<Figure size 360x360 with 1 Axes>"
            ]
          },
          "metadata": {
            "needs_background": "light"
          }
        }
      ],
      "source": [
        "import matplotlib.pyplot as plt\n",
        "\n",
        "plt.figure(figsize=(5,5))\n",
        "\n",
        "for i, row in df.iterrows():\n",
        "    if i==0:\n",
        "        plt.scatter(row[\"x\"], row[\"y\"], c=\"r\")\n",
        "        plt.text(row[\"x\"] + 1, row[\"y\"] + 1, \"depot\")\n",
        "    else:\n",
        "        plt.scatter(row[\"x\"], row[\"y\"], c=\"black\")\n",
        "        plt.text(row[\"x\"] + 1, row[\"y\"] + 1, f\"{i}\")\n",
        "plt.xlim([-10, 110])\n",
        "plt.ylim([-10, 110])\n",
        "plt.title(\"point:id\")\n",
        "plt.show()"
      ]
    },
    {
      "cell_type": "code",
      "source": [
        "!pip install -U pulp"
      ],
      "metadata": {
        "colab": {
          "base_uri": "https://localhost:8080/"
        },
        "id": "u5cJY5HV5CtW",
        "outputId": "03e50ded-9bd5-47e1-cd6c-827362368560"
      },
      "execution_count": null,
      "outputs": [
        {
          "output_type": "stream",
          "name": "stdout",
          "text": [
            "Collecting pulp\n",
            "  Downloading PuLP-2.6.0-py3-none-any.whl (14.2 MB)\n",
            "\u001b[K     |████████████████████████████████| 14.2 MB 3.7 MB/s \n",
            "\u001b[?25hInstalling collected packages: pulp\n",
            "Successfully installed pulp-2.6.0\n"
          ]
        }
      ]
    },
    {
      "cell_type": "code",
      "execution_count": null,
      "metadata": {
        "colab": {
          "base_uri": "https://localhost:8080/"
        },
        "id": "l5w5XNr548Kp",
        "outputId": "71ba0f9a-27dd-4791-caa0-9bdcf21dcc7f"
      },
      "outputs": [
        {
          "output_type": "execute_result",
          "data": {
            "text/plain": [
              "65.36818798161687"
            ]
          },
          "metadata": {},
          "execution_count": 37
        }
      ],
      "source": [
        "def distances(n1, n2):\n",
        "  return np.linalg.norm(df.iloc[n1]-df.iloc[n2])\n",
        "\n",
        "distances(1, 2)"
      ]
    },
    {
      "cell_type": "code",
      "execution_count": null,
      "metadata": {
        "colab": {
          "base_uri": "https://localhost:8080/"
        },
        "id": "Um2EpuAL48Kq",
        "outputId": "99a4e636-0c4b-4c9a-a091-08c7ca828736"
      },
      "outputs": [
        {
          "output_type": "stream",
          "name": "stdout",
          "text": [
            "{(0, 0): x_(0,_0), (0, 1): x_(0,_1), (0, 2): x_(0,_2), (0, 3): x_(0,_3), (0, 4): x_(0,_4), (0, 5): x_(0,_5), (0, 6): x_(0,_6), (0, 7): x_(0,_7), (0, 8): x_(0,_8), (0, 9): x_(0,_9), (1, 0): x_(1,_0), (1, 1): x_(1,_1), (1, 2): x_(1,_2), (1, 3): x_(1,_3), (1, 4): x_(1,_4), (1, 5): x_(1,_5), (1, 6): x_(1,_6), (1, 7): x_(1,_7), (1, 8): x_(1,_8), (1, 9): x_(1,_9), (2, 0): x_(2,_0), (2, 1): x_(2,_1), (2, 2): x_(2,_2), (2, 3): x_(2,_3), (2, 4): x_(2,_4), (2, 5): x_(2,_5), (2, 6): x_(2,_6), (2, 7): x_(2,_7), (2, 8): x_(2,_8), (2, 9): x_(2,_9), (3, 0): x_(3,_0), (3, 1): x_(3,_1), (3, 2): x_(3,_2), (3, 3): x_(3,_3), (3, 4): x_(3,_4), (3, 5): x_(3,_5), (3, 6): x_(3,_6), (3, 7): x_(3,_7), (3, 8): x_(3,_8), (3, 9): x_(3,_9), (4, 0): x_(4,_0), (4, 1): x_(4,_1), (4, 2): x_(4,_2), (4, 3): x_(4,_3), (4, 4): x_(4,_4), (4, 5): x_(4,_5), (4, 6): x_(4,_6), (4, 7): x_(4,_7), (4, 8): x_(4,_8), (4, 9): x_(4,_9), (5, 0): x_(5,_0), (5, 1): x_(5,_1), (5, 2): x_(5,_2), (5, 3): x_(5,_3), (5, 4): x_(5,_4), (5, 5): x_(5,_5), (5, 6): x_(5,_6), (5, 7): x_(5,_7), (5, 8): x_(5,_8), (5, 9): x_(5,_9), (6, 0): x_(6,_0), (6, 1): x_(6,_1), (6, 2): x_(6,_2), (6, 3): x_(6,_3), (6, 4): x_(6,_4), (6, 5): x_(6,_5), (6, 6): x_(6,_6), (6, 7): x_(6,_7), (6, 8): x_(6,_8), (6, 9): x_(6,_9), (7, 0): x_(7,_0), (7, 1): x_(7,_1), (7, 2): x_(7,_2), (7, 3): x_(7,_3), (7, 4): x_(7,_4), (7, 5): x_(7,_5), (7, 6): x_(7,_6), (7, 7): x_(7,_7), (7, 8): x_(7,_8), (7, 9): x_(7,_9), (8, 0): x_(8,_0), (8, 1): x_(8,_1), (8, 2): x_(8,_2), (8, 3): x_(8,_3), (8, 4): x_(8,_4), (8, 5): x_(8,_5), (8, 6): x_(8,_6), (8, 7): x_(8,_7), (8, 8): x_(8,_8), (8, 9): x_(8,_9), (9, 0): x_(9,_0), (9, 1): x_(9,_1), (9, 2): x_(9,_2), (9, 3): x_(9,_3), (9, 4): x_(9,_4), (9, 5): x_(9,_5), (9, 6): x_(9,_6), (9, 7): x_(9,_7), (9, 8): x_(9,_8), (9, 9): x_(9,_9)}\n",
            "\n",
            "\n",
            "{0: u_0, 1: u_1, 2: u_2, 3: u_3, 4: u_4, 5: u_5, 6: u_6, 7: u_7, 8: u_8, 9: u_9}\n"
          ]
        }
      ],
      "source": [
        "import pulp\n",
        "# set problem\n",
        "problem = pulp.LpProblem(\"tsp_mip\", pulp.LpMinimize)\n",
        "\n",
        "# set valiable\n",
        "x = pulp.LpVariable.dicts('x', ((i, j) for i in range(n_point) for j in range(n_point)), lowBound=0, upBound=1, cat='Binary')\n",
        "# トラックする必要あり\n",
        "u = pulp.LpVariable.dicts('u', (i for i in range(n_point)), lowBound=1, upBound=n_point, cat='Integer')\n",
        "\n",
        "print(x)\n",
        "print(\"\\n\")\n",
        "print(u)"
      ]
    },
    {
      "cell_type": "code",
      "source": [
        "# set objective function\n",
        "problem += pulp.lpSum(distances(i, j) * x[i, j] for i in range(n_point) for j in range(n_point))"
      ],
      "metadata": {
        "id": "gJr6F9ohKQxp"
      },
      "execution_count": null,
      "outputs": []
    },
    {
      "cell_type": "code",
      "source": [
        "# 制約を設ける\n",
        "for i in range(n_point):\n",
        "  problem += x[i, i] == 0\n",
        "\n",
        "for i in range(n_point):\n",
        "    problem += pulp.lpSum(x[i, j] for j in range(n_point)) == 1\n",
        "    problem += pulp.lpSum(x[j, i] for j in range(n_point)) == 1\n",
        "\n",
        "# solve problem\n",
        "status = problem.solve()\n",
        "\n",
        "# output status, value of objective function\n",
        "status, pulp.LpStatus[status], pulp.value(problem.objective)"
      ],
      "metadata": {
        "colab": {
          "base_uri": "https://localhost:8080/"
        },
        "id": "bDqI11_BK3f_",
        "outputId": "02b46ab7-6b47-4b94-d75d-592a5bfa06bd"
      },
      "execution_count": null,
      "outputs": [
        {
          "output_type": "execute_result",
          "data": {
            "text/plain": [
              "(1, 'Optimal', 187.37948723222672)"
            ]
          },
          "metadata": {},
          "execution_count": 40
        }
      ]
    },
    {
      "cell_type": "code",
      "source": [
        "# check TSP problem and optimized route\n",
        "plt.figure(figsize=(5, 5))\n",
        "\n",
        "# draw problem state\n",
        "for i, row in df.iterrows():\n",
        "    if i == 0:\n",
        "        plt.scatter(row['x'], row['y'], c='r')\n",
        "        plt.text(row['x'] + 1, row['y'] + 1, 'depot')\n",
        "    else:\n",
        "        plt.scatter(row['x'], row['y'], c='black')\n",
        "        plt.text(row['x'] + 1, row['y'] + 1, f'{i}')\n",
        "\n",
        "plt.xlim([-10, 110])\n",
        "plt.ylim([-10, 110])\n",
        "plt.title('points: id')\n",
        "\n",
        "# draw optimal route\n",
        "routes = [(i, j) for i in range(n_point) for j in range(n_point) if pulp.value(x[i, j]) == 1]\n",
        "arrowprops = dict(arrowstyle='->', connectionstyle='arc3', edgecolor='blue')\n",
        "for i, j in routes:\n",
        "    plt.annotate('', xy=[df.iloc[j]['x'], df.iloc[j]['y']], xytext=[df.iloc[i]['x'], df.iloc[i]['y']], arrowprops=arrowprops)\n",
        "plt.show()"
      ],
      "metadata": {
        "colab": {
          "base_uri": "https://localhost:8080/",
          "height": 335
        },
        "id": "R5SbHIgpMQFQ",
        "outputId": "8cc7c252-c78c-4401-a6aa-cf452a998273"
      },
      "execution_count": null,
      "outputs": [
        {
          "output_type": "display_data",
          "data": {
            "image/png": "[encoded data removed]",
            "text/plain": [
              "<Figure size 360x360 with 1 Axes>"
            ]
          },
          "metadata": {
            "needs_background": "light"
          }
        }
      ]
    },
    {
      "cell_type": "code",
      "source": [
        "# 制約を設ける\n",
        "for i in range(n_point):\n",
        "  problem += x[i, i] == 0\n",
        "\n",
        "for i in range(n_point):\n",
        "    problem += pulp.lpSum(x[i, j] for j in range(n_point)) == 1\n",
        "    problem += pulp.lpSum(x[j, i] for j in range(n_point)) == 1\n",
        "\n",
        "# eliminate subtour\n",
        "for i in range(n_point):\n",
        "    for j in range(n_point):\n",
        "        if i != j and (i != 0 and j != 0):\n",
        "            problem += u[i] - u[j] <= n_point * (1 - x[i, j]) - 1\n",
        "            \n",
        "# solve problem\n",
        "status = problem.solve()\n",
        "\n",
        "# output status, value of objective function\n",
        "status, pulp.LpStatus[status], pulp.value(problem.objective)"
      ],
      "metadata": {
        "colab": {
          "base_uri": "https://localhost:8080/"
        },
        "id": "U7KzIDoZMptF",
        "outputId": "83dbfcf8-bc42-4c71-c254-8456b9153a11"
      },
      "execution_count": null,
      "outputs": [
        {
          "output_type": "execute_result",
          "data": {
            "text/plain": [
              "(1, 'Optimal', 305.6137830849458)"
            ]
          },
          "metadata": {},
          "execution_count": 44
        }
      ]
    },
    {
      "cell_type": "code",
      "source": [
        "# check TSP problem and optimized route\n",
        "plt.figure(figsize=(5, 5))\n",
        "\n",
        "# draw problem state\n",
        "for i, row in df.iterrows():\n",
        "    if i == 0:\n",
        "        plt.scatter(row['x'], row['y'], c='r')\n",
        "        plt.text(row['x'] + 1, row['y'] + 1, 'depot')\n",
        "    else:\n",
        "        plt.scatter(row['x'], row['y'], c='black')\n",
        "        plt.text(row['x'] + 1, row['y'] + 1, f'{i}')\n",
        "\n",
        "plt.xlim([-10, 110])\n",
        "plt.ylim([-10, 110])\n",
        "plt.title('points: id')\n",
        "\n",
        "# draw optimal route\n",
        "routes = [(i, j) for i in range(n_point) for j in range(n_point) if pulp.value(x[i, j]) == 1]\n",
        "arrowprops = dict(arrowstyle='->', connectionstyle='arc3', edgecolor='blue')\n",
        "for i, j in routes:\n",
        "    plt.annotate('', xy=[df.iloc[j]['x'], df.iloc[j]['y']], xytext=[df.iloc[i]['x'], df.iloc[i]['y']], arrowprops=arrowprops)\n",
        "plt.show()"
      ],
      "metadata": {
        "colab": {
          "base_uri": "https://localhost:8080/",
          "height": 335
        },
        "id": "55MX-fWiMXKG",
        "outputId": "aee7dc08-b1e4-4ec9-efd7-6ca332a7397d"
      },
      "execution_count": null,
      "outputs": [
        {
          "output_type": "display_data",
          "data": {
            "image/png": "[encoded data removed]",
            "text/plain": [
              "<Figure size 360x360 with 1 Axes>"
            ]
          },
          "metadata": {
            "needs_background": "light"
          }
        }
      ]
    },
    {
      "cell_type": "code",
      "source": [
        ""
      ],
      "metadata": {
        "id": "kMALLpvwM0Z9"
      },
      "execution_count": null,
      "outputs": []
    }
  ],
  "metadata": {
    "interpreter": {
      "hash": "31f2aee4e71d21fbe5cf8b01ff0e069b9275f58929596ceb00d14d90e3e16cd6"
    },
    "kernelspec": {
      "display_name": "Python 3.8.9 64-bit",
      "language": "python",
      "name": "python3"
    },
    "language_info": {
      "codemirror_mode": {
        "name": "ipython",
        "version": 3
      },
      "file_extension": ".py",
      "mimetype": "text/x-python",
      "name": "python",
      "nbconvert_exporter": "python",
      "pygments_lexer": "ipython3",
      "version": "3.8.9"
    },
    "orig_nbformat": 4,
    "colab": {
      "name": "TSP-solver.ipynb",
      "provenance": [],
      "collapsed_sections": []
    }
  },
  "nbformat": 4,
  "nbformat_minor": 0
}